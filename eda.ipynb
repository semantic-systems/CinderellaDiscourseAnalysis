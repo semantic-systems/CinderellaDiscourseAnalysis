{
 "cells": [
  {
   "cell_type": "code",
   "execution_count": 20,
   "metadata": {
    "collapsed": true
   },
   "outputs": [],
   "source": [
    "from narrative import CinderellaNarrative\n",
    "from sentence_transformers import SentenceTransformer, util\n",
    "from pyvis.network import Network\n",
    "import networkx as nx"
   ]
  },
  {
   "cell_type": "code",
   "execution_count": 13,
   "outputs": [
    {
     "name": "stdout",
     "output_type": "stream",
     "text": [
      "Cinderella 1 sentence count: 109\n",
      "Cinderella 2 sentence count: 138\n",
      "Cinderella 3 sentence count: 49\n"
     ]
    }
   ],
   "source": [
    "cinderella_1 = CinderellaNarrative(path=\"narratives/cinderella/20723.txt\")\n",
    "cinderella_2 = CinderellaNarrative(path=\"narratives/cinderella/10830.txt\")\n",
    "cinderella_3 = CinderellaNarrative(path=\"narratives/cinderella/23303.txt\")\n",
    "print(f\"Cinderella 1 sentence count: {cinderella_1.sentence_count}\")\n",
    "print(f\"Cinderella 2 sentence count: {cinderella_2.sentence_count}\")\n",
    "print(f\"Cinderella 3 sentence count: {cinderella_3.sentence_count}\")"
   ],
   "metadata": {
    "collapsed": false,
    "pycharm": {
     "name": "#%%\n"
    }
   }
  },
  {
   "cell_type": "code",
   "execution_count": 3,
   "outputs": [],
   "source": [
    "embedder = SentenceTransformer('all-MiniLM-L6-v2')"
   ],
   "metadata": {
    "collapsed": false,
    "pycharm": {
     "name": "#%%\n"
    }
   }
  },
  {
   "cell_type": "code",
   "execution_count": 14,
   "outputs": [],
   "source": [
    "cinderella_1_embeddings = embedder.encode(cinderella_1.segmented_text, convert_to_tensor=True)\n",
    "cinderella_2_embeddings = embedder.encode(cinderella_2.segmented_text, convert_to_tensor=True)\n",
    "cinderella_3_embeddings = embedder.encode(cinderella_3.segmented_text, convert_to_tensor=True)\n"
   ],
   "metadata": {
    "collapsed": false,
    "pycharm": {
     "name": "#%%\n"
    }
   }
  },
  {
   "cell_type": "code",
   "execution_count": null,
   "outputs": [],
   "source": [],
   "metadata": {
    "collapsed": false,
    "pycharm": {
     "name": "#%%\n"
    }
   }
  },
  {
   "cell_type": "code",
   "execution_count": 30,
   "outputs": [
    {
     "name": "stdout",
     "output_type": "stream",
     "text": [
      "Warning: When  cdn_resources is 'local' jupyter notebook has issues displaying graphics on chrome/safari. Use cdn_resources='in_line' or cdn_resources='remote' if you have issues viewing graphics in a notebook.\n",
      "{\n",
      "    \"Nodes\": [\n",
      "        0,\n",
      "        1,\n",
      "        2,\n",
      "        3,\n",
      "        4,\n",
      "        5,\n",
      "        6,\n",
      "        7,\n",
      "        8,\n",
      "        9,\n",
      "        10,\n",
      "        11,\n",
      "        12,\n",
      "        13,\n",
      "        14,\n",
      "        15,\n",
      "        16,\n",
      "        17,\n",
      "        18,\n",
      "        19,\n",
      "        20,\n",
      "        21,\n",
      "        22,\n",
      "        23,\n",
      "        24,\n",
      "        25,\n",
      "        26,\n",
      "        27,\n",
      "        28,\n",
      "        29,\n",
      "        30,\n",
      "        31,\n",
      "        32,\n",
      "        33,\n",
      "        34,\n",
      "        35,\n",
      "        36,\n",
      "        37,\n",
      "        38,\n",
      "        39,\n",
      "        40,\n",
      "        41,\n",
      "        42,\n",
      "        43,\n",
      "        44,\n",
      "        45,\n",
      "        46,\n",
      "        47,\n",
      "        48,\n",
      "        49,\n",
      "        50,\n",
      "        51,\n",
      "        52,\n",
      "        53,\n",
      "        54,\n",
      "        55,\n",
      "        56,\n",
      "        57,\n",
      "        58,\n",
      "        59,\n",
      "        60,\n",
      "        61,\n",
      "        62,\n",
      "        63,\n",
      "        64,\n",
      "        65,\n",
      "        66,\n",
      "        67,\n",
      "        68,\n",
      "        69,\n",
      "        70,\n",
      "        71,\n",
      "        72,\n",
      "        73,\n",
      "        74,\n",
      "        75,\n",
      "        76,\n",
      "        77,\n",
      "        78,\n",
      "        79,\n",
      "        80,\n",
      "        81,\n",
      "        82,\n",
      "        83,\n",
      "        84,\n",
      "        85,\n",
      "        86,\n",
      "        87,\n",
      "        88,\n",
      "        89,\n",
      "        90,\n",
      "        91,\n",
      "        92,\n",
      "        93,\n",
      "        94,\n",
      "        95,\n",
      "        96,\n",
      "        97,\n",
      "        98,\n",
      "        99,\n",
      "        100,\n",
      "        101,\n",
      "        102,\n",
      "        103,\n",
      "        104,\n",
      "        105,\n",
      "        106,\n",
      "        107,\n",
      "        108\n",
      "    ],\n",
      "    \"Edges\": [],\n",
      "    \"Height\": \"600px\",\n",
      "    \"Width\": \"100%\",\n",
      "    \"Heading\": \"\"\n",
      "}\n",
      "cinderella_1.html\n"
     ]
    },
    {
     "data": {
      "text/plain": "<IPython.lib.display.IFrame at 0x7fab4ec28a90>",
      "text/html": "\n        <iframe\n            width=\"100%\"\n            height=\"600px\"\n            src=\"cinderella_1.html\"\n            frameborder=\"0\"\n            allowfullscreen\n            \n        ></iframe>\n        "
     },
     "execution_count": 30,
     "metadata": {},
     "output_type": "execute_result"
    }
   ],
   "source": [
    "g = Network(notebook=True)\n",
    "g.add_nodes(list(range(cinderella_1.sentence_count)), title=cinderella_1.segmented_text,\n",
    "                     label=list(range(cinderella_1.sentence_count)),\n",
    "                     color=[\"pink\"]*cinderella_1.sentence_count)\n",
    "g.show(\"cinderella_1.html\")\n"
   ],
   "metadata": {
    "collapsed": false,
    "pycharm": {
     "name": "#%%\n"
    }
   }
  },
  {
   "cell_type": "code",
   "execution_count": 31,
   "outputs": [],
   "source": [
    "cinderella_1_index = []\n",
    "cinderella_2_index = []\n",
    "similarity = []\n",
    "\n",
    "for i, query in enumerate(cinderella_1_embeddings):\n",
    "    top_hit = util.semantic_search(query, cinderella_2_embeddings, top_k=1)[0][0]\n",
    "    # hits = hits[0]\n",
    "    # print(f\"query {i}:\")\n",
    "    # print(cinderella_1.segmented_text[i])\n",
    "    # print(f\"top hit: {top_hit}\")\n",
    "    # print(cinderella_2.segmented_text[top_hit['corpus_id']], \"(Score: {:.4f})\".format(top_hit['score']))\n",
    "    # print(\"\")\n",
    "    cinderella_1_index.append(i)\n",
    "    cinderella_2_index.append(top_hit['corpus_id'])\n",
    "    similarity.append(top_hit['score'])\n",
    "    # print(f\"{i} - {top_hit['corpus_id']} - {top_hit['score']}\")\n"
   ],
   "metadata": {
    "collapsed": false,
    "pycharm": {
     "name": "#%%\n"
    }
   }
  },
  {
   "cell_type": "code",
   "execution_count": 17,
   "outputs": [
    {
     "name": "stdout",
     "output_type": "stream",
     "text": [
      "0 - 5 - 0.549335777759552\n",
      "1 - 2 - 0.6727904081344604\n",
      "2 - 1 - 0.5643327832221985\n",
      "3 - 4 - 0.5990473628044128\n",
      "4 - 0 - 0.5207690596580505\n",
      "5 - 1 - 0.6223236322402954\n",
      "6 - 47 - 0.4903661608695984\n",
      "7 - 45 - 0.6299070119857788\n",
      "8 - 34 - 0.7262451648712158\n",
      "9 - 31 - 0.46916627883911133\n",
      "10 - 5 - 0.5507627129554749\n",
      "11 - 6 - 0.7510221600532532\n",
      "12 - 8 - 0.5538874864578247\n",
      "13 - 16 - 0.6372140049934387\n",
      "14 - 47 - 0.47940030694007874\n",
      "15 - 23 - 0.49400413036346436\n",
      "16 - 8 - 0.4277498126029968\n",
      "17 - 16 - 0.6810874342918396\n",
      "18 - 33 - 0.6862590312957764\n",
      "19 - 15 - 0.2743549048900604\n",
      "20 - 31 - 0.29408392310142517\n",
      "21 - 15 - 0.312349796295166\n",
      "22 - 32 - 0.6332403421401978\n",
      "23 - 16 - 0.7123401165008545\n",
      "24 - 10 - 0.5067710876464844\n",
      "25 - 24 - 0.4738408923149109\n",
      "26 - 29 - 0.4254654049873352\n",
      "27 - 11 - 0.7644862532615662\n",
      "28 - 12 - 0.5072754621505737\n",
      "29 - 18 - 0.4626956582069397\n",
      "30 - 27 - 0.3284814655780792\n",
      "31 - 15 - 0.3797733783721924\n",
      "32 - 21 - 0.44405317306518555\n",
      "33 - 14 - 0.25664347410202026\n",
      "34 - 12 - 0.5291953682899475\n",
      "35 - 33 - 0.7317500114440918\n",
      "36 - 13 - 0.6399381160736084\n",
      "37 - 14 - 0.6004471778869629\n",
      "38 - 13 - 0.762812614440918\n",
      "39 - 14 - 0.7084003686904907\n",
      "40 - 25 - 0.6919902563095093\n",
      "41 - 17 - 0.7008878588676453\n",
      "42 - 18 - 0.7485897541046143\n",
      "43 - 37 - 0.6644810438156128\n",
      "44 - 37 - 0.6031389832496643\n",
      "45 - 13 - 0.5050760507583618\n",
      "46 - 20 - 0.6683581471443176\n",
      "47 - 17 - 0.48561498522758484\n",
      "48 - 21 - 0.743098795413971\n",
      "49 - 22 - 0.49022114276885986\n",
      "50 - 14 - 0.6639820337295532\n",
      "51 - 9 - 0.3198484182357788\n",
      "52 - 14 - 0.6251096725463867\n",
      "53 - 41 - 0.2564149796962738\n",
      "54 - 43 - 0.36361706256866455\n",
      "55 - 46 - 0.7117366790771484\n",
      "56 - 45 - 0.7206493616104126\n",
      "57 - 45 - 0.576248288154602\n",
      "58 - 25 - 0.678948163986206\n",
      "59 - 33 - 0.6670615673065186\n",
      "60 - 19 - 0.4066692590713501\n",
      "61 - 16 - 0.5621194839477539\n",
      "62 - 39 - 0.5265344977378845\n",
      "63 - 29 - 0.593270480632782\n",
      "64 - 31 - 0.5858752727508545\n",
      "65 - 27 - 0.4967651665210724\n",
      "66 - 8 - 0.5606558322906494\n",
      "67 - 27 - 0.565430760383606\n",
      "68 - 27 - 0.7131873369216919\n",
      "69 - 33 - 0.6662369966506958\n",
      "70 - 25 - 0.5990939140319824\n",
      "71 - 30 - 0.7960376739501953\n",
      "72 - 13 - 0.5422313809394836\n",
      "73 - 34 - 0.5254355072975159\n",
      "74 - 39 - 0.7143509387969971\n",
      "75 - 14 - 0.5424978733062744\n",
      "76 - 31 - 0.6509863138198853\n",
      "77 - 32 - 0.6453129649162292\n",
      "78 - 32 - 0.6713409423828125\n",
      "79 - 16 - 0.6992860436439514\n",
      "80 - 7 - 0.3350493311882019\n",
      "81 - 14 - 0.5254119634628296\n",
      "82 - 33 - 0.6234427094459534\n",
      "83 - 33 - 0.7286317348480225\n",
      "84 - 34 - 0.936872124671936\n",
      "85 - 32 - 0.6184802055358887\n",
      "86 - 36 - 0.5926473140716553\n",
      "87 - 29 - 0.5390779376029968\n",
      "88 - 39 - 0.6668103933334351\n",
      "89 - 38 - 0.6806646585464478\n",
      "90 - 32 - 0.5234479308128357\n",
      "91 - 34 - 0.7400497794151306\n",
      "92 - 39 - 0.6822524070739746\n",
      "93 - 40 - 0.7715020179748535\n",
      "94 - 40 - 0.688995361328125\n",
      "95 - 47 - 0.5472017526626587\n",
      "96 - 45 - 0.7300887107849121\n",
      "97 - 45 - 0.7708573341369629\n",
      "98 - 40 - 0.5270912051200867\n",
      "99 - 45 - 0.8796983957290649\n",
      "100 - 46 - 0.8348497748374939\n",
      "101 - 47 - 0.7708779573440552\n",
      "102 - 33 - 0.6386737823486328\n",
      "103 - 2 - 0.5602459907531738\n",
      "104 - 48 - 0.49538570642471313\n",
      "105 - 45 - 0.7092146873474121\n",
      "106 - 34 - 0.7229640483856201\n",
      "107 - 33 - 0.6577469706535339\n",
      "108 - 48 - 0.673638641834259\n"
     ]
    }
   ],
   "source": [
    "for i, query in enumerate(cinderella_1_embeddings):\n",
    "    top_hit = util.semantic_search(query, cinderella_3_embeddings, top_k=1)[0][0]\n",
    "    # hits = hits[0]\n",
    "\n",
    "    # print(f\"query {i}:\")\n",
    "    # print(cinderella_1.segmented_text[i])\n",
    "    # print(f\"top hit: {top_hit}\")\n",
    "    # print(cinderella_3.segmented_text[top_hit['corpus_id']], \"(Score: {:.4f})\".format(top_hit['score']))\n",
    "    print(f\"{i} - {top_hit['corpus_id']} - {top_hit['score']}\")\n",
    "    # print(\"\")"
   ],
   "metadata": {
    "collapsed": false,
    "pycharm": {
     "name": "#%%\n"
    }
   }
  },
  {
   "cell_type": "code",
   "execution_count": null,
   "outputs": [],
   "source": [],
   "metadata": {
    "collapsed": false,
    "pycharm": {
     "name": "#%%\n"
    }
   }
  }
 ],
 "metadata": {
  "kernelspec": {
   "display_name": "Python 3",
   "language": "python",
   "name": "python3"
  },
  "language_info": {
   "codemirror_mode": {
    "name": "ipython",
    "version": 2
   },
   "file_extension": ".py",
   "mimetype": "text/x-python",
   "name": "python",
   "nbconvert_exporter": "python",
   "pygments_lexer": "ipython2",
   "version": "2.7.6"
  }
 },
 "nbformat": 4,
 "nbformat_minor": 0
}